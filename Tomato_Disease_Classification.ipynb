{
  "cells": [
    {
      "cell_type": "markdown",
      "source": [
        "IMPORT PACKAGE"
      ],
      "metadata": {
        "id": "ltatu37gcAy0"
      }
    },
    {
      "cell_type": "code",
      "execution_count": 1,
      "metadata": {
        "id": "9d4EuSpRQxxV"
      },
      "outputs": [],
      "source": [
        "import matplotlib.pyplot as plt\n",
        "import torch\n",
        "import torch.nn as nn\n",
        "from torch.utils.data import DataLoader\n",
        "from torch.utils.data import random_split\n",
        "from torch.optim import Adam\n",
        "import torchvision\n",
        "from torchvision import transforms\n",
        "import time\n",
        "from tqdm import tqdm\n",
        "from skimage.io import imsave, imread"
      ]
    },
    {
      "cell_type": "markdown",
      "metadata": {
        "id": "LjipwWHSQxxZ"
      },
      "source": [
        "IMPORT DATA DARI GOOGLE DRIVE"
      ]
    },
    {
      "cell_type": "code",
      "source": [
        "from google.colab import drive\n",
        "drive.mount('/content/drive', force_remount=True)"
      ],
      "metadata": {
        "colab": {
          "base_uri": "https://localhost:8080/"
        },
        "id": "lH1euUxMWNVk",
        "outputId": "d808d372-a393-41f3-cf02-8faa22f371f4"
      },
      "execution_count": 2,
      "outputs": [
        {
          "output_type": "stream",
          "name": "stdout",
          "text": [
            "Mounted at /content/drive\n"
          ]
        }
      ]
    },
    {
      "cell_type": "markdown",
      "source": [
        "TRAIN & VALIDATION DATA PATH (GOOGLE DRIVE)"
      ],
      "metadata": {
        "id": "5FYe7f1r5p6l"
      }
    },
    {
      "cell_type": "code",
      "source": [
        "from PIL import Image\n",
        "import os \n",
        "import numpy as np\n",
        "\n",
        "train_data_path = '/content/drive/MyDrive/Colab Notebooks/datasets/tomato_custom/train'\n",
        "test_data_path = '/content/drive/MyDrive/Colab Notebooks/datasets/tomato_custom/val'"
      ],
      "metadata": {
        "id": "-52aOvyHZqrJ"
      },
      "execution_count": 3,
      "outputs": []
    },
    {
      "cell_type": "markdown",
      "source": [
        "IMPORT DATA DARI GITHUB"
      ],
      "metadata": {
        "id": "LYBj2-aUcEPv"
      }
    },
    {
      "cell_type": "code",
      "source": [
        "# !apt-get install subversion > /dev/null\n",
        "\n",
        "# !svn export https://github.com/DwiWahyuEffendi/Tomato-Disease-Classification/trunk/tomato_custom/ > /dev/null  --force"
      ],
      "metadata": {
        "id": "JG4ReKjRaDRc"
      },
      "execution_count": 4,
      "outputs": []
    },
    {
      "cell_type": "markdown",
      "source": [
        "VIEW DIREKTORY"
      ],
      "metadata": {
        "id": "C7AVq5GX6RXZ"
      }
    },
    {
      "cell_type": "code",
      "source": [
        "# !ls tomato_custom\n",
        "# !ls tomato_custom/train\n",
        "# !ls tomato_custom/val\n",
        "#!ls tomato_custom/train/Tomato___Bacterial_spot"
      ],
      "metadata": {
        "id": "MUr2yNtPaqKu"
      },
      "execution_count": 5,
      "outputs": []
    },
    {
      "cell_type": "markdown",
      "source": [
        "VIEW FILE IMAGE"
      ],
      "metadata": {
        "id": "ykmQ7KEt6NSQ"
      }
    },
    {
      "cell_type": "code",
      "source": [
        "# image = imread(\"tomato_custom/train/Tomato___Bacterial_spot/33950b17-918e-4243-bfbd-be33874b62c4___GCREC_Bact.Sp 3303.JPG\")\n",
        "# plt.figure(figsize=(3,3))\n",
        "# plt.imshow(image)"
      ],
      "metadata": {
        "id": "rAc_8zgQbq9j"
      },
      "execution_count": 6,
      "outputs": []
    },
    {
      "cell_type": "markdown",
      "source": [
        "TRAIN & VALIDATION DATA PATH (GIT REPOSITORY)"
      ],
      "metadata": {
        "id": "4keBu71c6FNg"
      }
    },
    {
      "cell_type": "code",
      "source": [
        "from PIL import Image\n",
        "import os \n",
        "import numpy as np\n",
        "\n",
        "train_data_path = 'tomato_custom/train'\n",
        "test_data_path = 'tomato_custom/val'"
      ],
      "metadata": {
        "id": "j3VNtCHTdPWE"
      },
      "execution_count": 7,
      "outputs": []
    },
    {
      "cell_type": "markdown",
      "source": [
        "DEFINE THE HYPERPARAMETERS"
      ],
      "metadata": {
        "id": "WeShbEUU6hmL"
      }
    },
    {
      "cell_type": "code",
      "execution_count": 8,
      "metadata": {
        "id": "hqaXBw2nQxxb"
      },
      "outputs": [],
      "source": [
        "batch_size = 64\n",
        "train_split = 0.90\n",
        "val_split = 1 -  train_split"
      ]
    },
    {
      "cell_type": "code",
      "execution_count": 9,
      "metadata": {
        "id": "zTEn_wJuQxxb"
      },
      "outputs": [],
      "source": [
        "# define the transformations done on the dataset\n",
        "transform = transforms.Compose([\n",
        "    transforms.Resize(64),\n",
        "    transforms.ToTensor(),\n",
        "    transforms.Normalize(mean=[0.4518, 0.4638, 0.4181],\n",
        "    std=[0.1836, 0.1602, 0.1991])\n",
        "])"
      ]
    },
    {
      "cell_type": "code",
      "execution_count": 10,
      "metadata": {
        "id": "ShgmDSjyQxxc"
      },
      "outputs": [],
      "source": [
        "# load the initial data\n",
        "initial_data = torchvision.datasets.ImageFolder(\n",
        "    root=train_data_path, \n",
        "    transform=transform\n",
        ")\n",
        "\n",
        "test_data = torchvision.datasets.ImageFolder(\n",
        "    root=test_data_path, \n",
        "    transform=transform\n",
        ")"
      ]
    },
    {
      "cell_type": "code",
      "execution_count": 11,
      "metadata": {
        "id": "X9_N8cDYQxxc",
        "outputId": "c7ec4a3d-2cd8-4b9d-e9fe-96c6ff7ae103",
        "colab": {
          "base_uri": "https://localhost:8080/"
        }
      },
      "outputs": [
        {
          "output_type": "stream",
          "name": "stdout",
          "text": [
            "6691\n"
          ]
        }
      ],
      "source": [
        "print(len(initial_data))"
      ]
    },
    {
      "cell_type": "code",
      "execution_count": 12,
      "metadata": {
        "id": "Vwf6PeHQQxxe"
      },
      "outputs": [],
      "source": [
        "# split the initial data into train and test sets\n",
        "len_init = len(initial_data) - 1\n",
        "train_len = int(len_init * train_split)\n",
        "val_len = int(len_init * val_split) + 2\n",
        "train_data, val_data = random_split(initial_data, [train_len, val_len], generator=torch.Generator().manual_seed(42))"
      ]
    },
    {
      "cell_type": "code",
      "execution_count": 13,
      "metadata": {
        "id": "mC4-mg65Qxxe"
      },
      "outputs": [],
      "source": [
        "# load the train, val and test sets\n",
        "\n",
        "train_loader = DataLoader(\n",
        "  train_data, \n",
        "  batch_size=batch_size, \n",
        "  shuffle=False\n",
        ")\n",
        "\n",
        "test_loader = DataLoader(\n",
        "  test_data, \n",
        "  batch_size=batch_size, \n",
        "  shuffle=False\n",
        ")\n",
        "\n",
        "val_loader = DataLoader(\n",
        "  val_data, \n",
        "  batch_size=batch_size, \n",
        "  shuffle=False\n",
        ")"
      ]
    },
    {
      "cell_type": "code",
      "execution_count": 14,
      "metadata": {
        "id": "MJO53s2mQxxf",
        "outputId": "246f1028-5068-4c92-9117-5906861355f8",
        "colab": {
          "base_uri": "https://localhost:8080/"
        }
      },
      "outputs": [
        {
          "output_type": "stream",
          "name": "stdout",
          "text": [
            "6021 670 806\n"
          ]
        }
      ],
      "source": [
        "print(len(train_loader.dataset), len(val_loader.dataset), len(test_loader.dataset))"
      ]
    },
    {
      "cell_type": "code",
      "execution_count": 15,
      "metadata": {
        "id": "0XaMWH4wQxxf"
      },
      "outputs": [],
      "source": [
        "# compute steps per epoch for training and validation set\n",
        "train_steps = len(train_loader.dataset) // batch_size\n",
        "val_steps = len(val_loader.dataset) // batch_size"
      ]
    },
    {
      "cell_type": "markdown",
      "metadata": {
        "id": "85DfDYTZQxxg"
      },
      "source": [
        "## 2. Define the model"
      ]
    },
    {
      "cell_type": "code",
      "execution_count": 16,
      "metadata": {
        "id": "PKllJy1uQxxg"
      },
      "outputs": [],
      "source": [
        "class TomatoDiseaseCNN(nn.Module):\n",
        "    '''\n",
        "        Convolutional Neural Network for tomato disease classification\n",
        "    '''\n",
        "    def __init__(self, in_channels=3, num_classes=10):\n",
        "        super(TomatoDiseaseCNN, self).__init__()\n",
        "        self.conv1 = nn.Conv2d(in_channels=3, out_channels=32, kernel_size=3, stride=1, padding=1)\n",
        "        self.act1 = nn.ReLU()\n",
        "        self.pool1 = nn.MaxPool2d(kernel_size=2)\n",
        "        self.conv2 = nn.Conv2d(in_channels=32, out_channels=64, kernel_size=3, stride=1, padding=1)\n",
        "        self.act2 = nn.ReLU()\n",
        "        self.pool2 = nn.MaxPool2d(kernel_size=2)\n",
        "        self.conv3 = nn.Conv2d(in_channels=64, out_channels=128, kernel_size=3, stride=1, padding=1)\n",
        "        self.act3 = nn.ReLU()\n",
        "        self.pool3 = nn.MaxPool2d(kernel_size=2)\n",
        "        self.fc1 = nn.Linear(128*8*8, 256)\n",
        "        self.act4 = nn.ReLU()\n",
        "        self.fc2 = nn.Linear(256, num_classes)\n",
        "        self.act5 = nn.Softmax(dim=1)\n",
        "\n",
        "    def forward(self, x):\n",
        "        x = self.conv1(x)\n",
        "        x = self.act1(x)\n",
        "        x = self.pool1(x)\n",
        "        x = self.conv2(x)\n",
        "        x = self.act2(x)\n",
        "        x = self.pool2(x)\n",
        "        x = self.conv3(x)\n",
        "        x = self.act3(x)\n",
        "        x = self.pool3(x)\n",
        "        x = x.view(-1, 128*8*8)\n",
        "        x = self.fc1(x)\n",
        "        x = self.act4(x)\n",
        "        x = self.fc2(x)\n",
        "        x = self.act5(x)\n",
        "        return x"
      ]
    },
    {
      "cell_type": "code",
      "execution_count": 17,
      "metadata": {
        "id": "o-y3Pul8Qxxh"
      },
      "outputs": [],
      "source": [
        "# choose the device on which we can train the mode\n",
        "device = torch.device(\"cuda\" if torch.cuda.is_available() else \"cpu\")\n",
        "model = TomatoDiseaseCNN(3, 10).to(device)\n",
        "# define the loss and the optimier\n",
        "criterion = nn.CrossEntropyLoss()\n",
        "optimizer = Adam(model.parameters(), lr=0.001)"
      ]
    },
    {
      "cell_type": "markdown",
      "metadata": {
        "id": "6Z21stkzQxxh"
      },
      "source": [
        "## 3. Train the model"
      ]
    },
    {
      "cell_type": "code",
      "execution_count": 18,
      "metadata": {
        "id": "-xx2k0H5Qxxh"
      },
      "outputs": [],
      "source": [
        "# define train model \n",
        "def train_model(model, optimizer, loss_fn, train_loader, val_loader, epochs=10, device=device):\n",
        "    # initialize the dict to store the history of the model\n",
        "    history = {\n",
        "        \"train_loss\": [],\n",
        "        \"train_acc\": [],\n",
        "        \"val_loss\": [],\n",
        "        \"val_acc\": []\n",
        "    }\n",
        "    for epoch in range(epochs):\n",
        "        # set the model in training mode\n",
        "        model.train()\n",
        "        # initialise the training and validation loss\n",
        "        train_loss, val_loss = 0, 0\n",
        "        # initialize numbers of correct train and correct validation\n",
        "        correct_train, correct_val = 0, 0\n",
        "        for data, target in tqdm(train_loader,  ascii =\"  ...=\"):\n",
        "            data = data.to(device)\n",
        "            target = target.to(device)\n",
        "            # set parameters gradients to zero\n",
        "            optimizer.zero_grad()\n",
        "            # forward pass\n",
        "            output = model(data)\n",
        "            # compute the loss\n",
        "            loss = loss_fn(output, target)\n",
        "            # compute the loss gradients w. r. t. parameters\n",
        "            loss.backward()\n",
        "            # update the parameters\n",
        "            optimizer.step()\n",
        "            train_loss += loss\n",
        "            # _, correct = output.max(1)\n",
        "            # correct_train += (correct == target).sum()\n",
        "            correct_train +=(output.argmax(1) ==target).type(torch.float).sum().item()\n",
        "        with torch.no_grad():\n",
        "            # set the model in evaluation mode\n",
        "            model.eval()\n",
        "            for data, target in val_loader:\n",
        "                data = data.to(device)\n",
        "                target = target.to(device)\n",
        "                # forward from validation data\n",
        "                output = model(data)\n",
        "                loss = loss_fn(output, target)\n",
        "                val_loss += loss\n",
        "                correct_val +=(output.argmax(1) ==target).type(torch.float).sum().item()\n",
        "        # compute the average of traning and validation loss\n",
        "        train_loss_avg = train_loss / train_steps\n",
        "        # training_loss /= len(train_loader)\n",
        "        val_loss_avg = val_loss / val_steps\n",
        "        # valid_loss /= len(val_loader)\n",
        "\n",
        "        # compute the accuracy of training and validation set\n",
        "        # calculate the training and validation accuracy\n",
        "        correct_train = correct_train / len(train_loader.dataset)\n",
        "        correct_val = correct_val / len(val_loader.dataset)\n",
        "        # update our training history\n",
        "        history[\"train_loss\"].append(train_loss_avg.cpu().detach().numpy())\n",
        "        history[\"train_acc\"].append(correct_train)\n",
        "        history[\"val_loss\"].append(val_loss_avg.cpu().detach().numpy())\n",
        "        history[\"val_acc\"].append(correct_val)\n",
        "\n",
        "        # print the model training and validation information\n",
        "        print(\"Epoch: {}/{}\".format(epoch + 1, epochs))\n",
        "        print(\"train loss: {:.6f} - train accuracy: {:.4f}\".format(train_loss_avg, correct_train))\n",
        "        print(\"val loss: {:.6f} - val accuracy: {:.4f}\".format(val_loss_avg, correct_val))\n",
        "    return history"
      ]
    },
    {
      "cell_type": "code",
      "execution_count": 19,
      "metadata": {
        "id": "5Nm4PGNWQxxi",
        "outputId": "9c89674f-5b24-4602-da7f-c892ea7076e0",
        "colab": {
          "base_uri": "https://localhost:8080/"
        }
      },
      "outputs": [
        {
          "output_type": "stream",
          "name": "stderr",
          "text": [
            "100%|==========| 95/95 [00:48<00:00,  1.95it/s]\n"
          ]
        },
        {
          "output_type": "stream",
          "name": "stdout",
          "text": [
            "Epoch: 1/80\n",
            "train loss: 2.027704 - train accuracy: 0.4509\n",
            "val loss: 2.203547 - val accuracy: 0.4448\n"
          ]
        },
        {
          "output_type": "stream",
          "name": "stderr",
          "text": [
            "100%|==========| 95/95 [00:47<00:00,  1.98it/s]\n"
          ]
        },
        {
          "output_type": "stream",
          "name": "stdout",
          "text": [
            "Epoch: 2/80\n",
            "train loss: 1.879458 - train accuracy: 0.5969\n",
            "val loss: 2.032434 - val accuracy: 0.6134\n"
          ]
        },
        {
          "output_type": "stream",
          "name": "stderr",
          "text": [
            "100%|==========| 95/95 [00:47<00:00,  1.99it/s]\n"
          ]
        },
        {
          "output_type": "stream",
          "name": "stdout",
          "text": [
            "Epoch: 3/80\n",
            "train loss: 1.787734 - train accuracy: 0.6929\n",
            "val loss: 1.990621 - val accuracy: 0.6463\n"
          ]
        },
        {
          "output_type": "stream",
          "name": "stderr",
          "text": [
            "100%|==========| 95/95 [00:47<00:00,  1.99it/s]\n"
          ]
        },
        {
          "output_type": "stream",
          "name": "stdout",
          "text": [
            "Epoch: 4/80\n",
            "train loss: 1.786720 - train accuracy: 0.6909\n",
            "val loss: 1.997732 - val accuracy: 0.6433\n"
          ]
        },
        {
          "output_type": "stream",
          "name": "stderr",
          "text": [
            "100%|==========| 95/95 [00:47<00:00,  2.00it/s]\n"
          ]
        },
        {
          "output_type": "stream",
          "name": "stdout",
          "text": [
            "Epoch: 5/80\n",
            "train loss: 1.768008 - train accuracy: 0.7094\n",
            "val loss: 1.918490 - val accuracy: 0.7119\n"
          ]
        },
        {
          "output_type": "stream",
          "name": "stderr",
          "text": [
            "100%|==========| 95/95 [00:47<00:00,  2.00it/s]\n"
          ]
        },
        {
          "output_type": "stream",
          "name": "stdout",
          "text": [
            "Epoch: 6/80\n",
            "train loss: 1.741295 - train accuracy: 0.7373\n",
            "val loss: 1.924197 - val accuracy: 0.7090\n"
          ]
        },
        {
          "output_type": "stream",
          "name": "stderr",
          "text": [
            "100%|==========| 95/95 [00:47<00:00,  2.00it/s]\n"
          ]
        },
        {
          "output_type": "stream",
          "name": "stdout",
          "text": [
            "Epoch: 7/80\n",
            "train loss: 1.738813 - train accuracy: 0.7382\n",
            "val loss: 1.938835 - val accuracy: 0.6970\n"
          ]
        },
        {
          "output_type": "stream",
          "name": "stderr",
          "text": [
            "100%|==========| 95/95 [00:47<00:00,  2.00it/s]\n"
          ]
        },
        {
          "output_type": "stream",
          "name": "stdout",
          "text": [
            "Epoch: 8/80\n",
            "train loss: 1.738872 - train accuracy: 0.7396\n",
            "val loss: 1.893202 - val accuracy: 0.7254\n"
          ]
        },
        {
          "output_type": "stream",
          "name": "stderr",
          "text": [
            "100%|==========| 95/95 [00:47<00:00,  2.00it/s]\n"
          ]
        },
        {
          "output_type": "stream",
          "name": "stdout",
          "text": [
            "Epoch: 9/80\n",
            "train loss: 1.725428 - train accuracy: 0.7525\n",
            "val loss: 1.918161 - val accuracy: 0.7045\n"
          ]
        },
        {
          "output_type": "stream",
          "name": "stderr",
          "text": [
            "100%|==========| 95/95 [00:47<00:00,  2.00it/s]\n"
          ]
        },
        {
          "output_type": "stream",
          "name": "stdout",
          "text": [
            "Epoch: 10/80\n",
            "train loss: 1.717506 - train accuracy: 0.7613\n",
            "val loss: 1.939348 - val accuracy: 0.6970\n"
          ]
        },
        {
          "output_type": "stream",
          "name": "stderr",
          "text": [
            "100%|==========| 95/95 [00:47<00:00,  2.00it/s]\n"
          ]
        },
        {
          "output_type": "stream",
          "name": "stdout",
          "text": [
            "Epoch: 11/80\n",
            "train loss: 1.707907 - train accuracy: 0.7710\n",
            "val loss: 1.852318 - val accuracy: 0.7746\n"
          ]
        },
        {
          "output_type": "stream",
          "name": "stderr",
          "text": [
            "100%|==========| 95/95 [00:47<00:00,  2.01it/s]\n"
          ]
        },
        {
          "output_type": "stream",
          "name": "stdout",
          "text": [
            "Epoch: 12/80\n",
            "train loss: 1.692015 - train accuracy: 0.7864\n",
            "val loss: 1.836858 - val accuracy: 0.7881\n"
          ]
        },
        {
          "output_type": "stream",
          "name": "stderr",
          "text": [
            "100%|==========| 95/95 [00:47<00:00,  2.01it/s]\n"
          ]
        },
        {
          "output_type": "stream",
          "name": "stdout",
          "text": [
            "Epoch: 13/80\n",
            "train loss: 1.675146 - train accuracy: 0.8039\n",
            "val loss: 1.889674 - val accuracy: 0.7373\n"
          ]
        },
        {
          "output_type": "stream",
          "name": "stderr",
          "text": [
            "100%|==========| 95/95 [00:47<00:00,  2.00it/s]\n"
          ]
        },
        {
          "output_type": "stream",
          "name": "stdout",
          "text": [
            "Epoch: 14/80\n",
            "train loss: 1.684070 - train accuracy: 0.7931\n",
            "val loss: 1.821847 - val accuracy: 0.7985\n"
          ]
        },
        {
          "output_type": "stream",
          "name": "stderr",
          "text": [
            "100%|==========| 95/95 [00:47<00:00,  2.01it/s]\n"
          ]
        },
        {
          "output_type": "stream",
          "name": "stdout",
          "text": [
            "Epoch: 15/80\n",
            "train loss: 1.666668 - train accuracy: 0.8122\n",
            "val loss: 1.809845 - val accuracy: 0.8119\n"
          ]
        },
        {
          "output_type": "stream",
          "name": "stderr",
          "text": [
            "100%|==========| 95/95 [00:47<00:00,  2.01it/s]\n"
          ]
        },
        {
          "output_type": "stream",
          "name": "stdout",
          "text": [
            "Epoch: 16/80\n",
            "train loss: 1.654594 - train accuracy: 0.8238\n",
            "val loss: 1.822859 - val accuracy: 0.8015\n"
          ]
        },
        {
          "output_type": "stream",
          "name": "stderr",
          "text": [
            "100%|==========| 95/95 [00:47<00:00,  2.02it/s]\n"
          ]
        },
        {
          "output_type": "stream",
          "name": "stdout",
          "text": [
            "Epoch: 17/80\n",
            "train loss: 1.658419 - train accuracy: 0.8201\n",
            "val loss: 1.831918 - val accuracy: 0.7881\n"
          ]
        },
        {
          "output_type": "stream",
          "name": "stderr",
          "text": [
            "100%|==========| 95/95 [00:47<00:00,  2.02it/s]\n"
          ]
        },
        {
          "output_type": "stream",
          "name": "stdout",
          "text": [
            "Epoch: 18/80\n",
            "train loss: 1.647145 - train accuracy: 0.8319\n",
            "val loss: 1.830549 - val accuracy: 0.7866\n"
          ]
        },
        {
          "output_type": "stream",
          "name": "stderr",
          "text": [
            "100%|==========| 95/95 [00:47<00:00,  2.01it/s]\n"
          ]
        },
        {
          "output_type": "stream",
          "name": "stdout",
          "text": [
            "Epoch: 19/80\n",
            "train loss: 1.642660 - train accuracy: 0.8359\n",
            "val loss: 1.827577 - val accuracy: 0.7940\n"
          ]
        },
        {
          "output_type": "stream",
          "name": "stderr",
          "text": [
            "100%|==========| 95/95 [00:47<00:00,  2.01it/s]\n"
          ]
        },
        {
          "output_type": "stream",
          "name": "stdout",
          "text": [
            "Epoch: 20/80\n",
            "train loss: 1.638323 - train accuracy: 0.8387\n",
            "val loss: 1.776464 - val accuracy: 0.8418\n"
          ]
        },
        {
          "output_type": "stream",
          "name": "stderr",
          "text": [
            "100%|==========| 95/95 [00:47<00:00,  2.01it/s]\n"
          ]
        },
        {
          "output_type": "stream",
          "name": "stdout",
          "text": [
            "Epoch: 21/80\n",
            "train loss: 1.588155 - train accuracy: 0.8914\n",
            "val loss: 1.730307 - val accuracy: 0.8866\n"
          ]
        },
        {
          "output_type": "stream",
          "name": "stderr",
          "text": [
            "100%|==========| 95/95 [00:47<00:00,  2.01it/s]\n"
          ]
        },
        {
          "output_type": "stream",
          "name": "stdout",
          "text": [
            "Epoch: 22/80\n",
            "train loss: 1.586903 - train accuracy: 0.8919\n",
            "val loss: 1.741170 - val accuracy: 0.8731\n"
          ]
        },
        {
          "output_type": "stream",
          "name": "stderr",
          "text": [
            "100%|==========| 95/95 [00:47<00:00,  2.01it/s]\n"
          ]
        },
        {
          "output_type": "stream",
          "name": "stdout",
          "text": [
            "Epoch: 23/80\n",
            "train loss: 1.563854 - train accuracy: 0.9158\n",
            "val loss: 1.715005 - val accuracy: 0.9000\n"
          ]
        },
        {
          "output_type": "stream",
          "name": "stderr",
          "text": [
            "100%|==========| 95/95 [00:47<00:00,  2.01it/s]\n"
          ]
        },
        {
          "output_type": "stream",
          "name": "stdout",
          "text": [
            "Epoch: 24/80\n",
            "train loss: 1.550285 - train accuracy: 0.9289\n",
            "val loss: 1.725574 - val accuracy: 0.8910\n"
          ]
        },
        {
          "output_type": "stream",
          "name": "stderr",
          "text": [
            "100%|==========| 95/95 [00:47<00:00,  2.01it/s]\n"
          ]
        },
        {
          "output_type": "stream",
          "name": "stdout",
          "text": [
            "Epoch: 25/80\n",
            "train loss: 1.541373 - train accuracy: 0.9382\n",
            "val loss: 1.714244 - val accuracy: 0.9060\n"
          ]
        },
        {
          "output_type": "stream",
          "name": "stderr",
          "text": [
            "100%|==========| 95/95 [00:47<00:00,  2.00it/s]\n"
          ]
        },
        {
          "output_type": "stream",
          "name": "stdout",
          "text": [
            "Epoch: 26/80\n",
            "train loss: 1.542373 - train accuracy: 0.9369\n",
            "val loss: 1.706341 - val accuracy: 0.9149\n"
          ]
        },
        {
          "output_type": "stream",
          "name": "stderr",
          "text": [
            "100%|==========| 95/95 [00:47<00:00,  2.02it/s]\n"
          ]
        },
        {
          "output_type": "stream",
          "name": "stdout",
          "text": [
            "Epoch: 27/80\n",
            "train loss: 1.534870 - train accuracy: 0.9432\n",
            "val loss: 1.686650 - val accuracy: 0.9269\n"
          ]
        },
        {
          "output_type": "stream",
          "name": "stderr",
          "text": [
            "100%|==========| 95/95 [00:47<00:00,  2.00it/s]\n"
          ]
        },
        {
          "output_type": "stream",
          "name": "stdout",
          "text": [
            "Epoch: 28/80\n",
            "train loss: 1.528747 - train accuracy: 0.9500\n",
            "val loss: 1.692047 - val accuracy: 0.9224\n"
          ]
        },
        {
          "output_type": "stream",
          "name": "stderr",
          "text": [
            "100%|==========| 95/95 [00:47<00:00,  2.01it/s]\n"
          ]
        },
        {
          "output_type": "stream",
          "name": "stdout",
          "text": [
            "Epoch: 29/80\n",
            "train loss: 1.525408 - train accuracy: 0.9535\n",
            "val loss: 1.725557 - val accuracy: 0.8955\n"
          ]
        },
        {
          "output_type": "stream",
          "name": "stderr",
          "text": [
            "100%|==========| 95/95 [00:47<00:00,  2.01it/s]\n"
          ]
        },
        {
          "output_type": "stream",
          "name": "stdout",
          "text": [
            "Epoch: 30/80\n",
            "train loss: 1.529077 - train accuracy: 0.9495\n",
            "val loss: 1.719594 - val accuracy: 0.9060\n"
          ]
        },
        {
          "output_type": "stream",
          "name": "stderr",
          "text": [
            "100%|==========| 95/95 [00:47<00:00,  2.01it/s]\n"
          ]
        },
        {
          "output_type": "stream",
          "name": "stdout",
          "text": [
            "Epoch: 31/80\n",
            "train loss: 1.531189 - train accuracy: 0.9483\n",
            "val loss: 1.682653 - val accuracy: 0.9328\n"
          ]
        },
        {
          "output_type": "stream",
          "name": "stderr",
          "text": [
            "100%|==========| 95/95 [00:47<00:00,  2.01it/s]\n"
          ]
        },
        {
          "output_type": "stream",
          "name": "stdout",
          "text": [
            "Epoch: 32/80\n",
            "train loss: 1.522590 - train accuracy: 0.9565\n",
            "val loss: 1.690422 - val accuracy: 0.9224\n"
          ]
        },
        {
          "output_type": "stream",
          "name": "stderr",
          "text": [
            "100%|==========| 95/95 [00:47<00:00,  2.00it/s]\n"
          ]
        },
        {
          "output_type": "stream",
          "name": "stdout",
          "text": [
            "Epoch: 33/80\n",
            "train loss: 1.520814 - train accuracy: 0.9583\n",
            "val loss: 1.735468 - val accuracy: 0.8866\n"
          ]
        },
        {
          "output_type": "stream",
          "name": "stderr",
          "text": [
            "100%|==========| 95/95 [00:47<00:00,  2.01it/s]\n"
          ]
        },
        {
          "output_type": "stream",
          "name": "stdout",
          "text": [
            "Epoch: 34/80\n",
            "train loss: 1.525008 - train accuracy: 0.9540\n",
            "val loss: 1.702847 - val accuracy: 0.9149\n"
          ]
        },
        {
          "output_type": "stream",
          "name": "stderr",
          "text": [
            "100%|==========| 95/95 [00:47<00:00,  2.00it/s]\n"
          ]
        },
        {
          "output_type": "stream",
          "name": "stdout",
          "text": [
            "Epoch: 35/80\n",
            "train loss: 1.531905 - train accuracy: 0.9469\n",
            "val loss: 1.727352 - val accuracy: 0.8910\n"
          ]
        },
        {
          "output_type": "stream",
          "name": "stderr",
          "text": [
            "100%|==========| 95/95 [00:47<00:00,  2.01it/s]\n"
          ]
        },
        {
          "output_type": "stream",
          "name": "stdout",
          "text": [
            "Epoch: 36/80\n",
            "train loss: 1.522800 - train accuracy: 0.9560\n",
            "val loss: 1.687078 - val accuracy: 0.9254\n"
          ]
        },
        {
          "output_type": "stream",
          "name": "stderr",
          "text": [
            "100%|==========| 95/95 [00:47<00:00,  2.01it/s]\n"
          ]
        },
        {
          "output_type": "stream",
          "name": "stdout",
          "text": [
            "Epoch: 37/80\n",
            "train loss: 1.527200 - train accuracy: 0.9517\n",
            "val loss: 1.723719 - val accuracy: 0.8925\n"
          ]
        },
        {
          "output_type": "stream",
          "name": "stderr",
          "text": [
            "100%|==========| 95/95 [00:47<00:00,  2.02it/s]\n"
          ]
        },
        {
          "output_type": "stream",
          "name": "stdout",
          "text": [
            "Epoch: 38/80\n",
            "train loss: 1.523703 - train accuracy: 0.9553\n",
            "val loss: 1.689036 - val accuracy: 0.9269\n"
          ]
        },
        {
          "output_type": "stream",
          "name": "stderr",
          "text": [
            "100%|==========| 95/95 [00:47<00:00,  2.01it/s]\n"
          ]
        },
        {
          "output_type": "stream",
          "name": "stdout",
          "text": [
            "Epoch: 39/80\n",
            "train loss: 1.522227 - train accuracy: 0.9565\n",
            "val loss: 1.690962 - val accuracy: 0.9209\n"
          ]
        },
        {
          "output_type": "stream",
          "name": "stderr",
          "text": [
            "100%|==========| 95/95 [00:47<00:00,  2.01it/s]\n"
          ]
        },
        {
          "output_type": "stream",
          "name": "stdout",
          "text": [
            "Epoch: 40/80\n",
            "train loss: 1.525134 - train accuracy: 0.9538\n",
            "val loss: 1.683963 - val accuracy: 0.9284\n"
          ]
        },
        {
          "output_type": "stream",
          "name": "stderr",
          "text": [
            "100%|==========| 95/95 [00:47<00:00,  2.01it/s]\n"
          ]
        },
        {
          "output_type": "stream",
          "name": "stdout",
          "text": [
            "Epoch: 41/80\n",
            "train loss: 1.514738 - train accuracy: 0.9643\n",
            "val loss: 1.714527 - val accuracy: 0.8970\n"
          ]
        },
        {
          "output_type": "stream",
          "name": "stderr",
          "text": [
            "100%|==========| 95/95 [00:47<00:00,  2.01it/s]\n"
          ]
        },
        {
          "output_type": "stream",
          "name": "stdout",
          "text": [
            "Epoch: 42/80\n",
            "train loss: 1.522243 - train accuracy: 0.9568\n",
            "val loss: 1.689571 - val accuracy: 0.9239\n"
          ]
        },
        {
          "output_type": "stream",
          "name": "stderr",
          "text": [
            "100%|==========| 95/95 [00:47<00:00,  2.01it/s]\n"
          ]
        },
        {
          "output_type": "stream",
          "name": "stdout",
          "text": [
            "Epoch: 43/80\n",
            "train loss: 1.519799 - train accuracy: 0.9593\n",
            "val loss: 1.701487 - val accuracy: 0.9164\n"
          ]
        },
        {
          "output_type": "stream",
          "name": "stderr",
          "text": [
            "100%|==========| 95/95 [00:47<00:00,  2.01it/s]\n"
          ]
        },
        {
          "output_type": "stream",
          "name": "stdout",
          "text": [
            "Epoch: 44/80\n",
            "train loss: 1.523727 - train accuracy: 0.9545\n",
            "val loss: 1.696451 - val accuracy: 0.9164\n"
          ]
        },
        {
          "output_type": "stream",
          "name": "stderr",
          "text": [
            "100%|==========| 95/95 [00:47<00:00,  2.01it/s]\n"
          ]
        },
        {
          "output_type": "stream",
          "name": "stdout",
          "text": [
            "Epoch: 45/80\n",
            "train loss: 1.514627 - train accuracy: 0.9640\n",
            "val loss: 1.684521 - val accuracy: 0.9284\n"
          ]
        },
        {
          "output_type": "stream",
          "name": "stderr",
          "text": [
            "100%|==========| 95/95 [00:47<00:00,  2.02it/s]\n"
          ]
        },
        {
          "output_type": "stream",
          "name": "stdout",
          "text": [
            "Epoch: 46/80\n",
            "train loss: 1.515245 - train accuracy: 0.9638\n",
            "val loss: 1.677126 - val accuracy: 0.9358\n"
          ]
        },
        {
          "output_type": "stream",
          "name": "stderr",
          "text": [
            "100%|==========| 95/95 [00:47<00:00,  2.01it/s]\n"
          ]
        },
        {
          "output_type": "stream",
          "name": "stdout",
          "text": [
            "Epoch: 47/80\n",
            "train loss: 1.516604 - train accuracy: 0.9625\n",
            "val loss: 1.679893 - val accuracy: 0.9328\n"
          ]
        },
        {
          "output_type": "stream",
          "name": "stderr",
          "text": [
            "100%|==========| 95/95 [00:47<00:00,  2.01it/s]\n"
          ]
        },
        {
          "output_type": "stream",
          "name": "stdout",
          "text": [
            "Epoch: 48/80\n",
            "train loss: 1.510259 - train accuracy: 0.9684\n",
            "val loss: 1.687775 - val accuracy: 0.9239\n"
          ]
        },
        {
          "output_type": "stream",
          "name": "stderr",
          "text": [
            "100%|==========| 95/95 [00:47<00:00,  2.01it/s]\n"
          ]
        },
        {
          "output_type": "stream",
          "name": "stdout",
          "text": [
            "Epoch: 49/80\n",
            "train loss: 1.522491 - train accuracy: 0.9565\n",
            "val loss: 1.738858 - val accuracy: 0.8791\n"
          ]
        },
        {
          "output_type": "stream",
          "name": "stderr",
          "text": [
            "100%|==========| 95/95 [00:47<00:00,  2.01it/s]\n"
          ]
        },
        {
          "output_type": "stream",
          "name": "stdout",
          "text": [
            "Epoch: 50/80\n",
            "train loss: 1.519241 - train accuracy: 0.9596\n",
            "val loss: 1.689589 - val accuracy: 0.9224\n"
          ]
        },
        {
          "output_type": "stream",
          "name": "stderr",
          "text": [
            "100%|==========| 95/95 [00:47<00:00,  2.00it/s]\n"
          ]
        },
        {
          "output_type": "stream",
          "name": "stdout",
          "text": [
            "Epoch: 51/80\n",
            "train loss: 1.507949 - train accuracy: 0.9709\n",
            "val loss: 1.691580 - val accuracy: 0.9239\n"
          ]
        },
        {
          "output_type": "stream",
          "name": "stderr",
          "text": [
            "100%|==========| 95/95 [00:47<00:00,  2.01it/s]\n"
          ]
        },
        {
          "output_type": "stream",
          "name": "stdout",
          "text": [
            "Epoch: 52/80\n",
            "train loss: 1.512448 - train accuracy: 0.9661\n",
            "val loss: 1.682418 - val accuracy: 0.9284\n"
          ]
        },
        {
          "output_type": "stream",
          "name": "stderr",
          "text": [
            "100%|==========| 95/95 [00:47<00:00,  2.00it/s]\n"
          ]
        },
        {
          "output_type": "stream",
          "name": "stdout",
          "text": [
            "Epoch: 53/80\n",
            "train loss: 1.510083 - train accuracy: 0.9689\n",
            "val loss: 1.741407 - val accuracy: 0.8851\n"
          ]
        },
        {
          "output_type": "stream",
          "name": "stderr",
          "text": [
            "100%|==========| 95/95 [00:47<00:00,  2.01it/s]\n"
          ]
        },
        {
          "output_type": "stream",
          "name": "stdout",
          "text": [
            "Epoch: 54/80\n",
            "train loss: 1.519811 - train accuracy: 0.9590\n",
            "val loss: 1.704844 - val accuracy: 0.9119\n"
          ]
        },
        {
          "output_type": "stream",
          "name": "stderr",
          "text": [
            "100%|==========| 95/95 [00:47<00:00,  2.00it/s]\n"
          ]
        },
        {
          "output_type": "stream",
          "name": "stdout",
          "text": [
            "Epoch: 55/80\n",
            "train loss: 1.518523 - train accuracy: 0.9600\n",
            "val loss: 1.714572 - val accuracy: 0.9060\n"
          ]
        },
        {
          "output_type": "stream",
          "name": "stderr",
          "text": [
            "100%|==========| 95/95 [00:47<00:00,  2.00it/s]\n"
          ]
        },
        {
          "output_type": "stream",
          "name": "stdout",
          "text": [
            "Epoch: 56/80\n",
            "train loss: 1.540701 - train accuracy: 0.9381\n",
            "val loss: 1.704240 - val accuracy: 0.9119\n"
          ]
        },
        {
          "output_type": "stream",
          "name": "stderr",
          "text": [
            "100%|==========| 95/95 [00:47<00:00,  2.00it/s]\n"
          ]
        },
        {
          "output_type": "stream",
          "name": "stdout",
          "text": [
            "Epoch: 57/80\n",
            "train loss: 1.515982 - train accuracy: 0.9628\n",
            "val loss: 1.691135 - val accuracy: 0.9194\n"
          ]
        },
        {
          "output_type": "stream",
          "name": "stderr",
          "text": [
            "100%|==========| 95/95 [00:47<00:00,  1.99it/s]\n"
          ]
        },
        {
          "output_type": "stream",
          "name": "stdout",
          "text": [
            "Epoch: 58/80\n",
            "train loss: 1.514232 - train accuracy: 0.9650\n",
            "val loss: 1.721335 - val accuracy: 0.8925\n"
          ]
        },
        {
          "output_type": "stream",
          "name": "stderr",
          "text": [
            "100%|==========| 95/95 [00:47<00:00,  2.00it/s]\n"
          ]
        },
        {
          "output_type": "stream",
          "name": "stdout",
          "text": [
            "Epoch: 59/80\n",
            "train loss: 1.532709 - train accuracy: 0.9455\n",
            "val loss: 1.716044 - val accuracy: 0.9000\n"
          ]
        },
        {
          "output_type": "stream",
          "name": "stderr",
          "text": [
            "100%|==========| 95/95 [00:47<00:00,  2.00it/s]\n"
          ]
        },
        {
          "output_type": "stream",
          "name": "stdout",
          "text": [
            "Epoch: 60/80\n",
            "train loss: 1.523858 - train accuracy: 0.9547\n",
            "val loss: 1.689123 - val accuracy: 0.9239\n"
          ]
        },
        {
          "output_type": "stream",
          "name": "stderr",
          "text": [
            "100%|==========| 95/95 [00:47<00:00,  2.00it/s]\n"
          ]
        },
        {
          "output_type": "stream",
          "name": "stdout",
          "text": [
            "Epoch: 61/80\n",
            "train loss: 1.525252 - train accuracy: 0.9535\n",
            "val loss: 1.703478 - val accuracy: 0.9149\n"
          ]
        },
        {
          "output_type": "stream",
          "name": "stderr",
          "text": [
            "100%|==========| 95/95 [00:47<00:00,  2.00it/s]\n"
          ]
        },
        {
          "output_type": "stream",
          "name": "stdout",
          "text": [
            "Epoch: 62/80\n",
            "train loss: 1.516568 - train accuracy: 0.9625\n",
            "val loss: 1.692991 - val accuracy: 0.9239\n"
          ]
        },
        {
          "output_type": "stream",
          "name": "stderr",
          "text": [
            "100%|==========| 95/95 [00:47<00:00,  2.00it/s]\n"
          ]
        },
        {
          "output_type": "stream",
          "name": "stdout",
          "text": [
            "Epoch: 63/80\n",
            "train loss: 1.515281 - train accuracy: 0.9633\n",
            "val loss: 1.690910 - val accuracy: 0.9224\n"
          ]
        },
        {
          "output_type": "stream",
          "name": "stderr",
          "text": [
            "100%|==========| 95/95 [00:47<00:00,  1.99it/s]\n"
          ]
        },
        {
          "output_type": "stream",
          "name": "stdout",
          "text": [
            "Epoch: 64/80\n",
            "train loss: 1.519488 - train accuracy: 0.9591\n",
            "val loss: 1.707389 - val accuracy: 0.9045\n"
          ]
        },
        {
          "output_type": "stream",
          "name": "stderr",
          "text": [
            "100%|==========| 95/95 [00:47<00:00,  2.00it/s]\n"
          ]
        },
        {
          "output_type": "stream",
          "name": "stdout",
          "text": [
            "Epoch: 65/80\n",
            "train loss: 1.517407 - train accuracy: 0.9611\n",
            "val loss: 1.695276 - val accuracy: 0.9179\n"
          ]
        },
        {
          "output_type": "stream",
          "name": "stderr",
          "text": [
            "100%|==========| 95/95 [00:47<00:00,  1.99it/s]\n"
          ]
        },
        {
          "output_type": "stream",
          "name": "stdout",
          "text": [
            "Epoch: 66/80\n",
            "train loss: 1.515893 - train accuracy: 0.9626\n",
            "val loss: 1.703623 - val accuracy: 0.9075\n"
          ]
        },
        {
          "output_type": "stream",
          "name": "stderr",
          "text": [
            "100%|==========| 95/95 [00:47<00:00,  2.00it/s]\n"
          ]
        },
        {
          "output_type": "stream",
          "name": "stdout",
          "text": [
            "Epoch: 67/80\n",
            "train loss: 1.510879 - train accuracy: 0.9681\n",
            "val loss: 1.694236 - val accuracy: 0.9194\n"
          ]
        },
        {
          "output_type": "stream",
          "name": "stderr",
          "text": [
            "100%|==========| 95/95 [00:47<00:00,  2.00it/s]\n"
          ]
        },
        {
          "output_type": "stream",
          "name": "stdout",
          "text": [
            "Epoch: 68/80\n",
            "train loss: 1.524197 - train accuracy: 0.9560\n",
            "val loss: 1.709413 - val accuracy: 0.9045\n"
          ]
        },
        {
          "output_type": "stream",
          "name": "stderr",
          "text": [
            "100%|==========| 95/95 [00:47<00:00,  1.99it/s]\n"
          ]
        },
        {
          "output_type": "stream",
          "name": "stdout",
          "text": [
            "Epoch: 69/80\n",
            "train loss: 1.525320 - train accuracy: 0.9513\n",
            "val loss: 1.714848 - val accuracy: 0.9015\n"
          ]
        },
        {
          "output_type": "stream",
          "name": "stderr",
          "text": [
            "100%|==========| 95/95 [00:47<00:00,  2.00it/s]\n"
          ]
        },
        {
          "output_type": "stream",
          "name": "stdout",
          "text": [
            "Epoch: 70/80\n",
            "train loss: 1.535082 - train accuracy: 0.9452\n",
            "val loss: 1.749048 - val accuracy: 0.8731\n"
          ]
        },
        {
          "output_type": "stream",
          "name": "stderr",
          "text": [
            "100%|==========| 95/95 [00:47<00:00,  1.99it/s]\n"
          ]
        },
        {
          "output_type": "stream",
          "name": "stdout",
          "text": [
            "Epoch: 71/80\n",
            "train loss: 1.511720 - train accuracy: 0.9648\n",
            "val loss: 1.694330 - val accuracy: 0.9194\n"
          ]
        },
        {
          "output_type": "stream",
          "name": "stderr",
          "text": [
            "100%|==========| 95/95 [00:47<00:00,  1.99it/s]\n"
          ]
        },
        {
          "output_type": "stream",
          "name": "stdout",
          "text": [
            "Epoch: 72/80\n",
            "train loss: 1.508800 - train accuracy: 0.9678\n",
            "val loss: 1.664314 - val accuracy: 0.9463\n"
          ]
        },
        {
          "output_type": "stream",
          "name": "stderr",
          "text": [
            "100%|==========| 95/95 [00:47<00:00,  1.99it/s]\n"
          ]
        },
        {
          "output_type": "stream",
          "name": "stdout",
          "text": [
            "Epoch: 73/80\n",
            "train loss: 1.506887 - train accuracy: 0.9696\n",
            "val loss: 1.697626 - val accuracy: 0.9209\n"
          ]
        },
        {
          "output_type": "stream",
          "name": "stderr",
          "text": [
            "100%|==========| 95/95 [00:47<00:00,  2.00it/s]\n"
          ]
        },
        {
          "output_type": "stream",
          "name": "stdout",
          "text": [
            "Epoch: 74/80\n",
            "train loss: 1.509868 - train accuracy: 0.9663\n",
            "val loss: 1.695976 - val accuracy: 0.9164\n"
          ]
        },
        {
          "output_type": "stream",
          "name": "stderr",
          "text": [
            "100%|==========| 95/95 [00:47<00:00,  2.00it/s]\n"
          ]
        },
        {
          "output_type": "stream",
          "name": "stdout",
          "text": [
            "Epoch: 75/80\n",
            "train loss: 1.512382 - train accuracy: 0.9645\n",
            "val loss: 1.683860 - val accuracy: 0.9299\n"
          ]
        },
        {
          "output_type": "stream",
          "name": "stderr",
          "text": [
            "100%|==========| 95/95 [00:47<00:00,  1.99it/s]\n"
          ]
        },
        {
          "output_type": "stream",
          "name": "stdout",
          "text": [
            "Epoch: 76/80\n",
            "train loss: 1.506334 - train accuracy: 0.9719\n",
            "val loss: 1.690448 - val accuracy: 0.9239\n"
          ]
        },
        {
          "output_type": "stream",
          "name": "stderr",
          "text": [
            "100%|==========| 95/95 [00:47<00:00,  1.99it/s]\n"
          ]
        },
        {
          "output_type": "stream",
          "name": "stdout",
          "text": [
            "Epoch: 77/80\n",
            "train loss: 1.528936 - train accuracy: 0.9497\n",
            "val loss: 1.708860 - val accuracy: 0.9075\n"
          ]
        },
        {
          "output_type": "stream",
          "name": "stderr",
          "text": [
            "100%|==========| 95/95 [00:47<00:00,  2.00it/s]\n"
          ]
        },
        {
          "output_type": "stream",
          "name": "stdout",
          "text": [
            "Epoch: 78/80\n",
            "train loss: 1.520600 - train accuracy: 0.9560\n",
            "val loss: 1.714014 - val accuracy: 0.9015\n"
          ]
        },
        {
          "output_type": "stream",
          "name": "stderr",
          "text": [
            "100%|==========| 95/95 [00:47<00:00,  2.01it/s]\n"
          ]
        },
        {
          "output_type": "stream",
          "name": "stdout",
          "text": [
            "Epoch: 79/80\n",
            "train loss: 1.502002 - train accuracy: 0.9743\n",
            "val loss: 1.681736 - val accuracy: 0.9328\n"
          ]
        },
        {
          "output_type": "stream",
          "name": "stderr",
          "text": [
            "100%|==========| 95/95 [00:47<00:00,  2.00it/s]\n"
          ]
        },
        {
          "output_type": "stream",
          "name": "stdout",
          "text": [
            "Epoch: 80/80\n",
            "train loss: 1.495483 - train accuracy: 0.9812\n",
            "val loss: 1.673014 - val accuracy: 0.9403\n",
            "The model took 4026.38s for training : \n"
          ]
        }
      ],
      "source": [
        "# train and check the time of training\n",
        "start_time = time.time()\n",
        "history = train_model(model, optimizer, criterion, train_loader, val_loader, 80)\n",
        "end_time = time.time()\n",
        "print(\"The model took {:.2f}s for training : \".format(end_time - start_time))"
      ]
    },
    {
      "cell_type": "code",
      "execution_count": 20,
      "metadata": {
        "id": "s8mHoPROQxxi",
        "outputId": "5438968e-bdbe-4f5c-9674-609ed02fdfa2",
        "colab": {
          "base_uri": "https://localhost:8080/",
          "height": 295
        }
      },
      "outputs": [
        {
          "output_type": "display_data",
          "data": {
            "image/png": "[encoded data removed]",
            "text/plain": [
              "<Figure size 432x288 with 1 Axes>"
            ]
          },
          "metadata": {
            "needs_background": "light"
          }
        }
      ],
      "source": [
        "plt.plot(history[\"train_loss\"], label=\"train_loss\")\n",
        "plt.plot(history[\"val_loss\"], label=\"val_loss\")\n",
        "plt.title(\"Training and validation loss\")\n",
        "plt.xlabel(\"Epoch \")\n",
        "plt.ylabel(\"Loss\")\n",
        "plt.legend(loc=\"best\")\n",
        "plt.show()"
      ]
    },
    {
      "cell_type": "code",
      "execution_count": 21,
      "metadata": {
        "id": "feGb5C6YQxxj",
        "outputId": "6db167f3-43f5-4bb9-983a-5ac51f13dd03",
        "colab": {
          "base_uri": "https://localhost:8080/",
          "height": 295
        }
      },
      "outputs": [
        {
          "output_type": "display_data",
          "data": {
            "image/png": "[encoded data removed]",
            "text/plain": [
              "<Figure size 432x288 with 1 Axes>"
            ]
          },
          "metadata": {
            "needs_background": "light"
          }
        }
      ],
      "source": [
        "plt.plot(history[\"train_acc\"], label=\"train_acc\")\n",
        "plt.plot(history[\"val_acc\"], label=\"val_acc\")\n",
        "plt.title(\"Training and validation accuray\")\n",
        "plt.xlabel(\"Epoch \")\n",
        "plt.ylabel(\"Accuracy\")\n",
        "plt.legend(loc=\"best\")\n",
        "plt.show()"
      ]
    },
    {
      "cell_type": "markdown",
      "metadata": {
        "id": "jHZC3zCYQxxj"
      },
      "source": [
        "## 4. Evaluate the model"
      ]
    },
    {
      "cell_type": "code",
      "execution_count": 22,
      "metadata": {
        "id": "TibpzoPJQxxj"
      },
      "outputs": [],
      "source": [
        "# define the function to evaluate the model\n",
        "def evaluate(data_loader):\n",
        "    # forbide the computation of grandient: autograd\n",
        "    with torch.no_grad():\n",
        "        # set the model in evaluation mode\n",
        "        model.eval()\n",
        "        pred_targets = []\n",
        "        for data, _ in tqdm(data_loader,  ascii =\"  ...=\"):\n",
        "            data = data.to(device)\n",
        "            pred_target = model(data)\n",
        "            pred_targets.extend(pred_target.argmax(axis=1).cpu().numpy())\n",
        "    return pred_targets"
      ]
    },
    {
      "cell_type": "code",
      "execution_count": 23,
      "metadata": {
        "id": "J4a_jqhcQxxj",
        "outputId": "80037a9c-2acb-4e5f-d499-259e65fe71f2",
        "colab": {
          "base_uri": "https://localhost:8080/"
        }
      },
      "outputs": [
        {
          "output_type": "stream",
          "name": "stderr",
          "text": [
            "100%|==========| 13/13 [00:03<00:00,  3.73it/s]"
          ]
        },
        {
          "output_type": "stream",
          "name": "stdout",
          "text": [
            "                                               precision    recall  f1-score   support\n",
            "\n",
            "                      Tomato___Bacterial_spot       0.90      0.93      0.91        85\n",
            "                        Tomato___Early_blight       0.75      0.80      0.77        81\n",
            "                         Tomato___Late_blight       0.92      0.54      0.68        83\n",
            "                           Tomato___Leaf_Mold       0.87      0.84      0.86        74\n",
            "                  Tomato___Septoria_leaf_spot       0.72      0.92      0.81        86\n",
            "Tomato___Spider_mites Two-spotted_spider_mite       0.88      0.84      0.86        83\n",
            "                         Tomato___Target_Spot       0.81      0.70      0.75        77\n",
            "       Tomato___Tomato_Yellow_Leaf_Curl_Virus       0.84      0.95      0.89        77\n",
            "                 Tomato___Tomato_mosaic_virus       0.86      1.00      0.93        81\n",
            "                             Tomato___healthy       0.97      0.90      0.93        79\n",
            "\n",
            "                                     accuracy                           0.84       806\n",
            "                                    macro avg       0.85      0.84      0.84       806\n",
            "                                 weighted avg       0.85      0.84      0.84       806\n",
            "\n"
          ]
        },
        {
          "output_type": "stream",
          "name": "stderr",
          "text": [
            "\n"
          ]
        }
      ],
      "source": [
        "# display metrics\n",
        "from sklearn.metrics import classification_report, confusion_matrix\n",
        "import seaborn as sns\n",
        "import numpy as np\n",
        "targets_hat = evaluate(test_loader)\n",
        "print(classification_report(test_data.targets, np.array(targets_hat), target_names=test_data.classes))"
      ]
    },
    {
      "cell_type": "code",
      "execution_count": 24,
      "metadata": {
        "id": "Eo_B4TLhQxxk",
        "outputId": "f4451b76-8b19-4c7b-b069-2207b82633db",
        "colab": {
          "base_uri": "https://localhost:8080/",
          "height": 516
        }
      },
      "outputs": [
        {
          "output_type": "execute_result",
          "data": {
            "text/plain": [
              "<matplotlib.axes._subplots.AxesSubplot at 0x7f9adf2c0490>"
            ]
          },
          "metadata": {},
          "execution_count": 24
        },
        {
          "output_type": "display_data",
          "data": {
            "image/png": "[encoded data removed]",
            "text/plain": [
              "<Figure size 432x288 with 2 Axes>"
            ]
          },
          "metadata": {
            "needs_background": "light"
          }
        }
      ],
      "source": [
        "sns.heatmap(confusion_matrix(test_data.targets, targets_hat), \n",
        "             xticklabels=test_data.classes,\n",
        "             yticklabels=test_data.classes,\n",
        "             cmap='RdBu_r',\n",
        "             annot=True,\n",
        "             linewidth=0.5)"
      ]
    }
  ],
  "metadata": {
    "kernelspec": {
      "display_name": "Python 3",
      "language": "python",
      "name": "python3"
    },
    "language_info": {
      "codemirror_mode": {
        "name": "ipython",
        "version": 3
      },
      "file_extension": ".py",
      "mimetype": "text/x-python",
      "name": "python",
      "nbconvert_exporter": "python",
      "pygments_lexer": "ipython3",
      "version": "3.8.8"
    },
    "colab": {
      "name": "Tomato-Disease-Classification.ipynb",
      "provenance": [],
      "collapsed_sections": []
    }
  },
  "nbformat": 4,
  "nbformat_minor": 0
}